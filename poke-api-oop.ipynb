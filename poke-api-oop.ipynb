{
 "cells": [
  {
   "cell_type": "code",
   "execution_count": 5,
   "metadata": {},
   "outputs": [
    {
     "name": "stdout",
     "output_type": "stream",
     "text": [
      "dict_keys(['abilities', 'base_experience', 'forms', 'game_indices', 'height', 'held_items', 'id', 'is_default', 'location_area_encounters', 'moves', 'name', 'order', 'past_types', 'species', 'sprites', 'stats', 'types', 'weight'])\n"
     ]
    }
   ],
   "source": [
    "# making the API call and dic keys request\n",
    "import requests as r\n",
    "req = r.get('https://pokeapi.co/api/v2/pokemon/pikachu')\n",
    "if req.status_code == 200:\n",
    "    data = req.json()\n",
    "print(data.keys())"
   ]
  },
  {
   "cell_type": "code",
   "execution_count": 41,
   "metadata": {},
   "outputs": [
    {
     "name": "stdout",
     "output_type": "stream",
     "text": [
      "spheal\n",
      "395\n",
      "['thick-fat', 'ice-body', 'oblivious']\n",
      "['ice', 'water']\n"
     ]
    }
   ],
   "source": [
    "# getting name\n",
    "name = data['name']\n",
    "print(name)\n",
    "\n",
    "# getting weight\n",
    "weight = data['weight']\n",
    "print(weight)\n",
    "\n",
    "\"\"\" getting ability\n",
    "\n",
    "single ability:\n",
    "abilityname = data['abilities'][1]['ability']['name']\n",
    "print(abilityname)\n",
    "\n",
    "abilities appended to list:\n",
    "abilities = []\n",
    "for x in data['abilities']:\n",
    "    abilities.append(x['ability']['name'])\n",
    "print(abilities)\n",
    "\"\"\"\n",
    " # abilities list comprehension\n",
    "abilities = [x['ability']['name'] for x in data['abilities']]\n",
    "print(abilities)\n",
    "\n",
    "#  types list comprehension\n",
    "types = [x['type']['name'] for x in data['types']]\n",
    "print(types)"
   ]
  },
  {
   "cell_type": "code",
   "execution_count": 42,
   "metadata": {},
   "outputs": [
    {
     "name": "stdout",
     "output_type": "stream",
     "text": [
      "{'name': 'spheal', 'abilities': ['thick-fat', 'ice-body', 'oblivious'], 'weight': 395, 'types': ['ice', 'water']}\n"
     ]
    }
   ],
   "source": [
    "# setting up pokemon variable\n",
    "pokemon = {\n",
    "'name': '',\n",
    "'abilities': [],\n",
    "'weight': '',\n",
    "'types': []\n",
    "}\n",
    "\n",
    "pikachu = {\n",
    "    'name': name,\n",
    "    'abilities': abilities,\n",
    "    'weight': weight,\n",
    "    'types': types\n",
    "}\n",
    "print(pikachu)"
   ]
  },
  {
   "cell_type": "code",
   "execution_count": 29,
   "metadata": {},
   "outputs": [
    {
     "name": "stdout",
     "output_type": "stream",
     "text": [
      "{'name': 'pikachu', 'types': ['electric'], 'abilities': ['static', 'lightning-rod'], 'weight': 60}\n"
     ]
    }
   ],
   "source": [
    "# api call function\n",
    "\n",
    "def pokeAPIcall(pokemon):\n",
    "    import requests as r\n",
    "    req = r.get(f'https://pokeapi.co/api/v2/pokemon/{pokemon}')\n",
    "    if req.status_code == 200:\n",
    "        data = req.json()\n",
    "    else:\n",
    "        return req.status_code # send back the error code if something went wrong\n",
    "    \n",
    "    pokedict = {\n",
    "        'name': data['name'],\n",
    "        'types': [x['type']['name'] for x in data['types']],\n",
    "        'abilities': [x['ability']['name'] for x in data['abilities']],\n",
    "        'weight': data['weight']\n",
    "    }\n",
    "\n",
    "    return pokedict\n",
    "\n",
    "pikachu = pokeAPIcall('pikachu')\n",
    "print(pikachu)"
   ]
  },
  {
   "cell_type": "code",
   "execution_count": 45,
   "metadata": {},
   "outputs": [
    {
     "name": "stdout",
     "output_type": "stream",
     "text": [
      "{'name': None, 'types': [], 'abilities': [], 'weight': None}\n",
      "Pikachu's data has been uploaded. {'name': 'Pikachu', 'types': ['electric'], 'abilities': ['static', 'lightning-rod'], 'weight': 60}\n",
      "<__main__.Pokemon object at 0x000001C36902EE00>\n"
     ]
    }
   ],
   "source": [
    "class Pokemon:\n",
    "    def __init__(self):\n",
    "        self.name = None\n",
    "        self.types = []\n",
    "        self.abilities = []\n",
    "        self.weight = None\n",
    "    \n",
    "    def pokeAPIcall(self, pokeName):\n",
    "        import requests as r\n",
    "        req = r.get(f'https://pokeapi.co/api/v2/pokemon/{pokeName}')\n",
    "        if req.status_code == 200:\n",
    "            data = req.json()\n",
    "        else:\n",
    "            print('Ran into an issue: {req.status_code}') # send back the error code if something went wrong\n",
    "            return\n",
    "\n",
    "        self.name = data['name'].title()\n",
    "        self.types = [x['type']['name'] for x in data['types']]\n",
    "        self.abilities = [x['ability']['name'] for x in data['abilities']]\n",
    "        self.weight = data['weight']\n",
    "        print(f\"{self.name}'s data has been uploaded. {self.__dict__}\")\n",
    "\n",
    "#instantiating one object from class        \n",
    "pikachu = Pokemon()\n",
    "print(pikachu.__dict__) \n",
    "pikachu.pokeAPIcall('pikachu')\n",
    "print(pikachu)"
   ]
  },
  {
   "cell_type": "code",
   "execution_count": 53,
   "metadata": {},
   "outputs": [
    {
     "name": "stdout",
     "output_type": "stream",
     "text": [
      "Pikachu's data has been uploaded. {'name': 'Pikachu', 'types': ['electric'], 'abilities': ['static', 'lightning-rod'], 'weight': 60}\n",
      "Charmander's data has been uploaded. {'name': 'Charmander', 'types': ['fire'], 'abilities': ['blaze', 'solar-power'], 'weight': 85}\n",
      "Squirtle's data has been uploaded. {'name': 'Squirtle', 'types': ['water'], 'abilities': ['torrent', 'rain-dish'], 'weight': 90}\n",
      "Venusaur's data has been uploaded. {'name': 'Venusaur', 'types': ['grass', 'poison'], 'abilities': ['overgrow', 'chlorophyll'], 'weight': 1000}\n",
      "Butterfree's data has been uploaded. {'name': 'Butterfree', 'types': ['bug', 'flying'], 'abilities': ['compound-eyes', 'tinted-lens'], 'weight': 320}\n",
      "Starmie's data has been uploaded. {'name': 'Starmie', 'types': ['water', 'psychic'], 'abilities': ['illuminate', 'natural-cure', 'analytic'], 'weight': 800}\n",
      "Dragonite's data has been uploaded. {'name': 'Dragonite', 'types': ['dragon', 'flying'], 'abilities': ['inner-focus', 'multiscale'], 'weight': 2100}\n",
      "Scyther's data has been uploaded. {'name': 'Scyther', 'types': ['bug', 'flying'], 'abilities': ['swarm', 'technician', 'steadfast'], 'weight': 560}\n",
      "Rhyhorn's data has been uploaded. {'name': 'Rhyhorn', 'types': ['ground', 'rock'], 'abilities': ['lightning-rod', 'rock-head', 'reckless'], 'weight': 1150}\n",
      "Lapras's data has been uploaded. {'name': 'Lapras', 'types': ['water', 'ice'], 'abilities': ['water-absorb', 'shell-armor', 'hydration'], 'weight': 2200}\n",
      "Ran into an issue: {req.status_code}\n"
     ]
    },
    {
     "data": {
      "text/plain": [
       "{'pikachu': <__main__.Pokemon at 0x1c36902f4f0>,\n",
       " 'charmander': <__main__.Pokemon at 0x1c368cd2e30>,\n",
       " 'squirtle': <__main__.Pokemon at 0x1c368cd31c0>,\n",
       " 'venusaur': <__main__.Pokemon at 0x1c368cd37c0>,\n",
       " 'butterfree': <__main__.Pokemon at 0x1c368cd2c50>,\n",
       " 'starmie': <__main__.Pokemon at 0x1c368cd3460>,\n",
       " 'dragonite': <__main__.Pokemon at 0x1c368cd2f50>,\n",
       " 'scyther': <__main__.Pokemon at 0x1c368cd28c0>,\n",
       " 'rhyhorn': <__main__.Pokemon at 0x1c36902df00>,\n",
       " 'lapras': <__main__.Pokemon at 0x1c36902f370>,\n",
       " 'nido queen': <__main__.Pokemon at 0x1c36902c040>}"
      ]
     },
     "execution_count": 53,
     "metadata": {},
     "output_type": "execute_result"
    }
   ],
   "source": [
    "pokemon = ['pikachu', 'charmander', 'squirtle', 'venusaur', 'butterfree', 'starmie', 'dragonite', 'scyther', 'rhyhorn', 'lapras', 'nido queen']\n",
    "\n",
    "# calling multiple pokemon object dictionaries\n",
    "poke = {}\n",
    "for name in pokemon:\n",
    "    new = Pokemon()\n",
    "    new.pokeAPIcall(name)\n",
    "    poke[name] = new\n",
    "    \n",
    "poke\n"
   ]
  },
  {
   "cell_type": "code",
   "execution_count": null,
   "metadata": {},
   "outputs": [],
   "source": []
  },
  {
   "cell_type": "code",
   "execution_count": null,
   "metadata": {},
   "outputs": [],
   "source": []
  }
 ],
 "metadata": {
  "interpreter": {
   "hash": "b89b5cfaba6639976dc87ff2fec6d58faec662063367e2c229c520fe71072417"
  },
  "kernelspec": {
   "display_name": "Python 3 (ipykernel)",
   "language": "python",
   "name": "python3"
  },
  "language_info": {
   "codemirror_mode": {
    "name": "ipython",
    "version": 3
   },
   "file_extension": ".py",
   "mimetype": "text/x-python",
   "name": "python",
   "nbconvert_exporter": "python",
   "pygments_lexer": "ipython3",
   "version": "3.10.1"
  }
 },
 "nbformat": 4,
 "nbformat_minor": 2
}
